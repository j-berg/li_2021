{
 "cells": [
  {
   "cell_type": "code",
   "execution_count": 27,
   "metadata": {},
   "outputs": [],
   "source": [
    "%%capture \n",
    "# Hide matplotlib backend error\n",
    "\n",
    "import os\n",
    "import pandas as pd \n",
    "from sklearn import preprocessing\n",
    "from math import sqrt\n",
    "from statistics import mean, stdev\n",
    "import matplotlib\n",
    "import matplotlib.pyplot as plt\n",
    "import seaborn as sns \n",
    "\n",
    "sns.set(font='arial')\n",
    "_jakes_cmap = sns.diverging_palette(212, 61, s=99, l=77, sep=1, n=16, center='dark') #Custom aesthetics\n",
    "\n",
    "%matplotlib inline\n",
    "\n",
    "#Set path to this directory for accessing and saving files\n",
    "__path__  = os.getcwd() + os.path.sep"
   ]
  },
  {
   "cell_type": "code",
   "execution_count": 2,
   "metadata": {},
   "outputs": [
    {
     "name": "stdout",
     "output_type": "stream",
     "text": [
      "C:\\Users\\jorda\\Desktop\\bensard_figures_2019-master\\\n"
     ]
    }
   ],
   "source": [
    "print(__path__)"
   ]
  },
  {
   "cell_type": "markdown",
   "metadata": {},
   "source": [
    "## TCGA Data"
   ]
  },
  {
   "cell_type": "code",
   "execution_count": 3,
   "metadata": {},
   "outputs": [
    {
     "name": "stdout",
     "output_type": "stream",
     "text": [
      "Size of C:\\Users\\jorda\\Desktop\\bensard_figures_2019-master\\data\\tcga_unity_data\\colon-rsem-fpkm-gtex.txt: (19096, 339)\n",
      "Size of C:\\Users\\jorda\\Desktop\\bensard_figures_2019-master\\data\\tcga_unity_data\\coad-rsem-fpkm-tcga.txt: (19096, 41)\n",
      "Size of C:\\Users\\jorda\\Desktop\\bensard_figures_2019-master\\data\\tcga_unity_data\\coad-rsem-fpkm-tcga-t.txt: (19096, 285)\n",
      "Size of final dataframe: (19096, 665)\n",
      "Size of final metadata table: (665, 2)\n"
     ]
    }
   ],
   "source": [
    "# Import TCGA/GTEx Unity Data \n",
    "\n",
    "data_dir = os.path.join(__path__, 'data', 'tcga_unity_data') + os.path.sep\n",
    "\n",
    "file_list = ['colon-rsem-fpkm-gtex.txt',\n",
    "            'coad-rsem-fpkm-tcga.txt',\n",
    "            'coad-rsem-fpkm-tcga-t.txt']\n",
    "file_list = [str(data_dir) + str(x) for x in file_list]\n",
    "\n",
    "#Initialize\n",
    "df_list = []\n",
    "meta = pd.DataFrame(columns = [0,1])\n",
    "previous = 0\n",
    "label_number = 0\n",
    "drop_extra='Entrez_Gene_Id'\n",
    "label_list = [\n",
    "    'GTEX_Normal',\n",
    "    'TCGA_Normal',\n",
    "    'TCGA_Tumor']\n",
    "\n",
    "#Import\n",
    "for x in range(len(file_list)):\n",
    "\n",
    "    #Get and clean data\n",
    "    data = pd.read_csv(\n",
    "        str(file_list[x]),\n",
    "        index_col = 0,\n",
    "        sep = '\\t')\n",
    "    data.index.name = None\n",
    "\n",
    "    #Drop extra column if needed\n",
    "    if drop_extra != None:\n",
    "        data = data.drop(labels=['Entrez_Gene_Id'], axis=1)\n",
    "\n",
    "    #Add data to data list\n",
    "    df_list.append(data)\n",
    "\n",
    "    print('Size of ' + str(file_list[x]) + ': ' + str(data.shape))\n",
    "\n",
    "    #Get metadata for current data matrix\n",
    "    data_L = data.columns.tolist()\n",
    "\n",
    "    for x in range(len(data_L)):\n",
    "        meta.loc[previous + x] = [data_L[x], label_list[label_number]]\n",
    "\n",
    "    #Update iterators\n",
    "    previous = previous + len(data_L)\n",
    "    label_number += 1\n",
    "\n",
    "#Join dataframes\n",
    "data = pd.concat(df_list, axis=1)\n",
    "print('Size of final dataframe: ' + str(data.shape))\n",
    "print('Size of final metadata table: ' + str(meta.shape))\n",
    "\n",
    "data_scale = data.copy()\n",
    "data_scale[data_scale.columns] = preprocessing.scale(data_scale[data_scale.columns], axis=1)"
   ]
  },
  {
   "cell_type": "code",
   "execution_count": 5,
   "metadata": {},
   "outputs": [],
   "source": [
    "sample_colors = {'GTEX_Normal': '#005f42',\n",
    "                 'TCGA_Normal': (0.00784313725490196, 0.6196078431372549, 0.45098039215686275),\n",
    "                 'TCGA_Tumor': (0.5725490196078431, 0.5843137254901961, 0.5686274509803921)\n",
    "                }\n",
    "\n",
    "test_genes = [\n",
    "    'SPTLC1',\n",
    "    'SPTLC2',\n",
    "    'CERS6',\n",
    "    'DEGS1',\n",
    "    'DEGS2',\n",
    "    'SGMS1',\n",
    "    'SGMS2',\n",
    "    'ME1', \n",
    "    'ME2', \n",
    "    'PC'\n",
    "]\n",
    "\n",
    "control_genes = [\n",
    "    'CERS1', # doesn't seem to be expressed well in TCGA data\n",
    "    'CERS2', # doesn't seem to be expressed well in TCGA data\n",
    "    'CERS3', # doesn't seem to be expressed well in TCGA data\n",
    "    'CERS4',\n",
    "    'CERS5',\n",
    "    'UGCG',\n",
    "    'SPHK2',\n",
    "    'SGPL1' # doesn't seem to be expressed well in TCGA data\n",
    "]\n",
    "\n",
    "data_scale_genes = data_scale.copy()\n",
    "data_scale_genes = data_scale_genes.loc[test_genes]\n",
    "\n",
    "### To remove the constraint on expression magnitude, \n",
    "### remove the line below and run the code block\n",
    "data_scale_genes[data_scale_genes > 5] = 5 # <-- Remove this one"
   ]
  },
  {
   "cell_type": "code",
   "execution_count": 7,
   "metadata": {},
   "outputs": [],
   "source": [
    "\"\"\"Prepare a color map from palette dictionary\"\"\"\n",
    "meta = meta.T\n",
    "meta.columns = meta.iloc[0]\n",
    "meta = meta.reindex(meta.index.drop(0))\n",
    "meta = meta.rename({1: 'samples'})\n",
    "labels = meta.iloc[0]\n",
    "_color_map = labels.map(sample_colors)"
   ]
  },
  {
   "cell_type": "code",
   "execution_count": 9,
   "metadata": {},
   "outputs": [
    {
     "data": {
      "image/png": "[encoded data removed]",
      "text/plain": [
       "<Figure size 1080x216 with 5 Axes>"
      ]
     },
     "metadata": {},
     "output_type": "display_data"
    }
   ],
   "source": [
    "_font_scale = 0.8\n",
    "_center = 0\n",
    "_metric = 'euclidean'\n",
    "_method = 'centroid'\n",
    "_xticklabels = False\n",
    "_yticklabels = True\n",
    "_linewidths = 0\n",
    "_linecolor = '#DCDCDC'\n",
    "_col_cluster = False\n",
    "_row_cluster = True\n",
    "_figsize = (15,3)\n",
    "    \n",
    "sns.set(font_scale = _font_scale)\n",
    "ax = sns.clustermap(\n",
    "    data_scale_genes,\n",
    "    cmap=_jakes_cmap,\n",
    "    center=_center,\n",
    "    metric=_metric,\n",
    "    method=_method,\n",
    "    xticklabels=_xticklabels,\n",
    "    yticklabels=_yticklabels,\n",
    "    linewidths=_linewidths,\n",
    "    linecolor=_linecolor,\n",
    "    col_cluster=_col_cluster,\n",
    "    row_cluster=_row_cluster,\n",
    "    col_colors=_color_map,\n",
    "    figsize=_figsize)\n",
    "\n",
    "colors = {\n",
    "    'GTEx Normal': '#005f42',\n",
    "    'TCGA Normal': (0.00784313725490196, 0.6196078431372549, 0.45098039215686275),\n",
    "    'TCGA Tumor': (0.5725490196078431, 0.5843137254901961, 0.5686274509803921)\n",
    "}\n",
    "\n",
    "g = lambda m,c: plt.plot([],[],marker='o', color=c, ls=\"none\")[0]\n",
    "handles_g = [g(\"s\", list(colors.values())[i]) for i in range(len(list(colors.values())))]\n",
    "plt.legend(handles_g, list(colors.keys()), bbox_to_anchor=(0, -7), loc=3, borderaxespad=0., title='Samples')\n",
    "\n",
    "plt.savefig(\n",
    "    os.path.join(__path__, 'plots', 'tcga_test_genes_heatmap.pdf'),\n",
    "    dpi=600,\n",
    "    bbox_inches='tight')\n",
    "plt.show()"
   ]
  },
  {
   "cell_type": "code",
   "execution_count": 36,
   "metadata": {},
   "outputs": [],
   "source": [
    "def cohen_d(comp, base):\n",
    "    return (mean(comp) - mean(base)) / (sqrt((stdev(comp) ** 2 + stdev(base) ** 2) / 2))"
   ]
  },
  {
   "cell_type": "code",
   "execution_count": 37,
   "metadata": {},
   "outputs": [],
   "source": [
    "data_effect = data.copy()\n",
    "data_effect = data_effect.loc[test_genes]\n",
    "\n",
    "normal = []\n",
    "tumor = []\n",
    "for i, r in meta.T.iterrows():\n",
    "    if 'normal' in r[0].lower():\n",
    "        normal.append(i)\n",
    "    else:\n",
    "        tumor.append(i)\n",
    "    \n",
    "data_tumor = data_effect[tumor]\n",
    "data_normal = data_effect[normal]"
   ]
  },
  {
   "cell_type": "code",
   "execution_count": 41,
   "metadata": {},
   "outputs": [
    {
     "name": "stdout",
     "output_type": "stream",
     "text": [
      "SPTLC1:\t-0.36\t(Small)\n",
      "SPTLC2:\t-0.26\t(Small)\n",
      "CERS6:\t0.56\t(Medium)\n",
      "DEGS1:\t0.2\t(Very small)\n",
      "DEGS2:\t-0.14\t(Very small)\n",
      "SGMS1:\t-0.31\t(Small)\n",
      "SGMS2:\t-0.71\t(Medium)\n",
      "ME1:\t0.73\t(Medium)\n",
      "ME2:\t-1.44\t(Very large)\n",
      "PC:\t-0.7\t(Medium)\n"
     ]
    }
   ],
   "source": [
    "\"\"\"Cohen's d effect size scale:\n",
    "Very small   0.01\n",
    "Small        0.20\n",
    "Medium       0.50\n",
    "Large        0.80\n",
    "Very large   1.20\n",
    "Huge         2.0\n",
    "\n",
    "Source:\n",
    "- Cohen, Jacob (1988). Statistical Power Analysis for the Behavioral Sciences. \n",
    "    Routledge. ISBN 978-1-134-74270-7.\n",
    "- Sawilowsky, S (2009). \"New effect size rules of thumb\". \n",
    "    Journal of Modern Applied Statistical Methods. 8 (2): 467–474. \n",
    "    doi:10.22237/jmasm/1257035100.\n",
    "\"\"\"\n",
    "\n",
    "for i, r in data_effect.iterrows():\n",
    "    gene = i\n",
    "    comp = data_tumor.loc[gene].values\n",
    "    base = data_normal.loc[gene].values\n",
    "    e = cohen_d(comp, base)\n",
    "    status = \"\"\n",
    "    if abs(e) < 0.01:\n",
    "        status = \"Negligible\"\n",
    "    elif abs(e) >= 0.01 and abs(e) < 0.2:\n",
    "        status = \"Very small\"\n",
    "    elif abs(e) >= 0.2 and abs(e) < 0.5:\n",
    "        status = \"Small\"\n",
    "    elif abs(e) >= 0.5 and abs(e) < 0.8:\n",
    "        status = \"Medium\"\n",
    "    elif abs(e) >= 0.8 and abs(e) < 1.2:\n",
    "        status = \"Large\"\n",
    "    elif abs(e) >= 1.2 and abs(e) < 2.0:\n",
    "        status = \"Very large\"\n",
    "    else:\n",
    "        status = \"Huge\"\n",
    "    \n",
    "    \n",
    "    print(gene + \":\\t\" + str(round(e, 2)) + \"\\t(\" + status + \")\")"
   ]
  },
  {
   "cell_type": "markdown",
   "metadata": {},
   "source": [
    "## GEO Microarray data"
   ]
  },
  {
   "cell_type": "code",
   "execution_count": null,
   "metadata": {},
   "outputs": [],
   "source": [
    "import GEOparse"
   ]
  },
  {
   "cell_type": "code",
   "execution_count": null,
   "metadata": {},
   "outputs": [],
   "source": []
  }
 ],
 "metadata": {
  "kernelspec": {
   "display_name": "Python 3",
   "language": "python",
   "name": "python3"
  },
  "language_info": {
   "codemirror_mode": {
    "name": "ipython",
    "version": 3
   },
   "file_extension": ".py",
   "mimetype": "text/x-python",
   "name": "python",
   "nbconvert_exporter": "python",
   "pygments_lexer": "ipython3",
   "version": "3.7.8"
  }
 },
 "nbformat": 4,
 "nbformat_minor": 4
}
